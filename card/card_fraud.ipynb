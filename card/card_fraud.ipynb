{
  "nbformat": 4,
  "nbformat_minor": 0,
  "metadata": {
    "colab": {
      "provenance": []
    },
    "kernelspec": {
      "name": "python3",
      "display_name": "Python 3"
    },
    "language_info": {
      "name": "python"
    }
  },
  "cells": [
    {
      "cell_type": "code",
      "execution_count": 7,
      "metadata": {
        "id": "to1LZPFGWgn_",
        "colab": {
          "base_uri": "https://localhost:8080/"
        },
        "outputId": "38b1c62f-a688-46b0-f88f-02c9f1abb73e"
      },
      "outputs": [
        {
          "output_type": "stream",
          "name": "stdout",
          "text": [
            "Drive already mounted at /content/drive; to attempt to forcibly remount, call drive.mount(\"/content/drive\", force_remount=True).\n",
            "Train Data:\n",
            "   Unnamed: 0 trans_date_trans_time            cc_num  \\\n",
            "0           0   2019-01-01 00:00:18  2703186189652095   \n",
            "1           1   2019-01-01 00:00:44      630423337322   \n",
            "2           2   2019-01-01 00:00:51    38859492057661   \n",
            "3           3   2019-01-01 00:01:16  3534093764340240   \n",
            "4           4   2019-01-01 00:03:06   375534208663984   \n",
            "\n",
            "                             merchant       category     amt      first  \\\n",
            "0          fraud_Rippin, Kub and Mann       misc_net    4.97   Jennifer   \n",
            "1     fraud_Heller, Gutmann and Zieme    grocery_pos  107.23  Stephanie   \n",
            "2                fraud_Lind-Buckridge  entertainment  220.11     Edward   \n",
            "3  fraud_Kutch, Hermiston and Farrell  gas_transport   45.00     Jeremy   \n",
            "4                 fraud_Keeling-Crist       misc_pos   41.96      Tyler   \n",
            "\n",
            "      last gender                        street  ...      lat      long  \\\n",
            "0    Banks      F                561 Perry Cove  ...  36.0788  -81.1781   \n",
            "1     Gill      F  43039 Riley Greens Suite 393  ...  48.8878 -118.2105   \n",
            "2  Sanchez      M      594 White Dale Suite 530  ...  42.1808 -112.2620   \n",
            "3    White      M   9443 Cynthia Court Apt. 038  ...  46.2306 -112.1138   \n",
            "4   Garcia      M              408 Bradley Rest  ...  38.4207  -79.4629   \n",
            "\n",
            "   city_pop                                job         dob  \\\n",
            "0      3495          Psychologist, counselling  1988-03-09   \n",
            "1       149  Special educational needs teacher  1978-06-21   \n",
            "2      4154        Nature conservation officer  1962-01-19   \n",
            "3      1939                    Patent attorney  1967-01-12   \n",
            "4        99     Dance movement psychotherapist  1986-03-28   \n",
            "\n",
            "                          trans_num   unix_time  merch_lat  merch_long  \\\n",
            "0  0b242abb623afc578575680df30655b9  1325376018  36.011293  -82.048315   \n",
            "1  1f76529f8574734946361c461b024d99  1325376044  49.159047 -118.186462   \n",
            "2  a1a22d70485983eac12b5b88dad1cf95  1325376051  43.150704 -112.154481   \n",
            "3  6b849c168bdad6f867558c3793159a81  1325376076  47.034331 -112.561071   \n",
            "4  a41d7549acf90789359a9aa5346dcb46  1325376186  38.674999  -78.632459   \n",
            "\n",
            "   is_fraud  \n",
            "0         0  \n",
            "1         0  \n",
            "2         0  \n",
            "3         0  \n",
            "4         0  \n",
            "\n",
            "[5 rows x 23 columns]\n",
            "\n",
            "Test Data:\n",
            "   Unnamed: 0 trans_date_trans_time            cc_num  \\\n",
            "0           0   2020-06-21 12:14:25  2291163933867244   \n",
            "1           1   2020-06-21 12:14:33  3573030041201292   \n",
            "2           2   2020-06-21 12:14:53  3598215285024754   \n",
            "3           3   2020-06-21 12:15:15  3591919803438423   \n",
            "4           4   2020-06-21 12:15:17  3526826139003047   \n",
            "\n",
            "                               merchant        category    amt   first  \\\n",
            "0                 fraud_Kirlin and Sons   personal_care   2.86    Jeff   \n",
            "1                  fraud_Sporer-Keebler   personal_care  29.84  Joanne   \n",
            "2  fraud_Swaniawski, Nitzsche and Welch  health_fitness  41.28  Ashley   \n",
            "3                     fraud_Haley Group        misc_pos  60.05   Brian   \n",
            "4                 fraud_Johnston-Casper          travel   3.19  Nathan   \n",
            "\n",
            "       last gender                       street  ...      lat      long  \\\n",
            "0   Elliott      M            351 Darlene Green  ...  33.9659  -80.9355   \n",
            "1  Williams      F             3638 Marsh Union  ...  40.3207 -110.4360   \n",
            "2     Lopez      F         9333 Valentine Point  ...  40.6729  -73.5365   \n",
            "3  Williams      M  32941 Krystal Mill Apt. 552  ...  28.5697  -80.8191   \n",
            "4    Massey      M     5783 Evan Roads Apt. 465  ...  44.2529  -85.0170   \n",
            "\n",
            "   city_pop                     job         dob  \\\n",
            "0    333497     Mechanical engineer  1968-03-19   \n",
            "1       302  Sales professional, IT  1990-01-17   \n",
            "2     34496       Librarian, public  1970-10-21   \n",
            "3     54767            Set designer  1987-07-25   \n",
            "4      1126      Furniture designer  1955-07-06   \n",
            "\n",
            "                          trans_num   unix_time  merch_lat  merch_long  \\\n",
            "0  2da90c7d74bd46a0caf3777415b3ebd3  1371816865  33.986391  -81.200714   \n",
            "1  324cc204407e99f51b0d6ca0055005e7  1371816873  39.450498 -109.960431   \n",
            "2  c81755dbbbea9d5c77f094348a7579be  1371816893  40.495810  -74.196111   \n",
            "3  2159175b9efe66dc301f149d3d5abf8c  1371816915  28.812398  -80.883061   \n",
            "4  57ff021bd3f328f8738bb535c302a31b  1371816917  44.959148  -85.884734   \n",
            "\n",
            "   is_fraud  \n",
            "0         0  \n",
            "1         0  \n",
            "2         0  \n",
            "3         0  \n",
            "4         0  \n",
            "\n",
            "[5 rows x 23 columns]\n"
          ]
        }
      ],
      "source": [
        "from google.colab import drive\n",
        "import pandas as pd\n",
        "drive.mount('/content/drive')\n",
        "train_file_path = '/content/drive/MyDrive/card/fraudTrain.csv'\n",
        "test_file_path = '/content/drive/MyDrive/card/fraudTest.csv'\n",
        "# Load train and test datasets\n",
        "train_data = pd.read_csv(train_file_path)\n",
        "test_data = pd.read_csv(test_file_path)\n",
        "# Display first few rows of train and test datasets\n",
        "print(\"Train Data:\")\n",
        "print(train_data.head())\n",
        "print(\"\\nTest Data:\")\n",
        "print(test_data.head())"
      ]
    },
    {
      "cell_type": "code",
      "source": [
        "print(\"Train Data - Missing Values:\\n\", train_data.isnull().sum())\n",
        "print(\"\\nTest Data - Missing Values:\\n\", test_data.isnull().sum())"
      ],
      "metadata": {
        "colab": {
          "base_uri": "https://localhost:8080/"
        },
        "id": "1qNX7e6odgQ7",
        "outputId": "4729af1b-a70b-4be9-e60e-4ce586f2eb5b"
      },
      "execution_count": 8,
      "outputs": [
        {
          "output_type": "stream",
          "name": "stdout",
          "text": [
            "Train Data - Missing Values:\n",
            " Unnamed: 0               0\n",
            "trans_date_trans_time    0\n",
            "cc_num                   0\n",
            "merchant                 0\n",
            "category                 0\n",
            "amt                      0\n",
            "first                    0\n",
            "last                     0\n",
            "gender                   0\n",
            "street                   0\n",
            "city                     0\n",
            "state                    0\n",
            "zip                      0\n",
            "lat                      0\n",
            "long                     0\n",
            "city_pop                 0\n",
            "job                      0\n",
            "dob                      0\n",
            "trans_num                0\n",
            "unix_time                0\n",
            "merch_lat                0\n",
            "merch_long               0\n",
            "is_fraud                 0\n",
            "dtype: int64\n",
            "\n",
            "Test Data - Missing Values:\n",
            " Unnamed: 0               0\n",
            "trans_date_trans_time    0\n",
            "cc_num                   0\n",
            "merchant                 0\n",
            "category                 0\n",
            "amt                      0\n",
            "first                    0\n",
            "last                     0\n",
            "gender                   0\n",
            "street                   0\n",
            "city                     0\n",
            "state                    0\n",
            "zip                      0\n",
            "lat                      0\n",
            "long                     0\n",
            "city_pop                 0\n",
            "job                      0\n",
            "dob                      0\n",
            "trans_num                0\n",
            "unix_time                0\n",
            "merch_lat                0\n",
            "merch_long               0\n",
            "is_fraud                 0\n",
            "dtype: int64\n"
          ]
        }
      ]
    },
    {
      "cell_type": "code",
      "source": [
        "train_data = pd.get_dummies(train_data, columns=['gender', 'category'], drop_first=True)\n",
        "test_data = pd.get_dummies(test_data, columns=['gender', 'category'], drop_first=True)"
      ],
      "metadata": {
        "id": "s18ySAIVdjxN"
      },
      "execution_count": 9,
      "outputs": []
    },
    {
      "cell_type": "code",
      "source": [
        "from sklearn.preprocessing import StandardScaler\n",
        "\n",
        "# Initialize StandardScaler\n",
        "scaler = StandardScaler()\n",
        "\n",
        "# Normalize numerical features in train data\n",
        "num_cols = ['amt', 'city_pop', 'unix_time', 'merch_lat', 'merch_long']\n",
        "train_data[num_cols] = scaler.fit_transform(train_data[num_cols])\n",
        "\n",
        "# Normalize numerical features in test data\n",
        "test_data[num_cols] = scaler.transform(test_data[num_cols])"
      ],
      "metadata": {
        "id": "iouGZjLPdo3D"
      },
      "execution_count": 10,
      "outputs": []
    },
    {
      "cell_type": "code",
      "source": [
        "import pandas as pd\n",
        "from sklearn.model_selection import train_test_split\n",
        "from sklearn.linear_model import LogisticRegression\n",
        "from sklearn.metrics import accuracy_score, classification_report, confusion_matrix\n",
        "\n",
        "# Load your dataset\n",
        "# Replace with the correct file paths if needed\n",
        "train_file_path = '/content/drive/MyDrive/churn/Churn_Modelling.csv'\n",
        "\n",
        "# Read the CSV file into a DataFrame\n",
        "df = pd.read_csv(train_file_path)\n",
        "\n",
        "# Select relevant columns for features and target\n",
        "feature_columns = ['CreditScore', 'Geography', 'Gender', 'Age', 'Tenure', 'Balance', 'NumOfProducts', 'HasCrCard', 'IsActiveMember', 'EstimatedSalary']\n",
        "\n",
        "# Convert categorical columns to numeric using one-hot encoding\n",
        "df = pd.get_dummies(df, columns=['Geography', 'Gender'], drop_first=True)\n",
        "\n",
        "# Define features and target\n",
        "X = df.drop(columns=['RowNumber', 'CustomerId', 'Surname', 'Exited'])\n",
        "y = df['Exited']\n",
        "\n",
        "# Train-test split for validation\n",
        "X_train, X_val, y_train, y_val = train_test_split(X, y, test_size=0.2, random_state=42)\n",
        "\n",
        "# Display shapes of datasets\n",
        "print(\"Train set shape:\", X_train.shape)\n",
        "print(\"Validation set shape:\", X_val.shape)\n",
        "\n",
        "# Initialize Logistic Regression model\n",
        "logistic_regression = LogisticRegression(max_iter=1000, random_state=42)\n",
        "\n",
        "# Train the model\n",
        "logistic_regression.fit(X_train, y_train)\n",
        "\n",
        "# Predict on validation set\n",
        "y_val_pred_lr = logistic_regression.predict(X_val)\n",
        "\n",
        "# Evaluate model performance on validation set\n",
        "print(\"Logistic Regression Model Performance:\")\n",
        "print(\"Accuracy:\", accuracy_score(y_val, y_val_pred_lr))\n",
        "print(\"Classification Report:\\n\", classification_report(y_val, y_val_pred_lr))\n",
        "print(\"Confusion Matrix:\\n\", confusion_matrix(y_val, y_val_pred_lr))\n"
      ],
      "metadata": {
        "colab": {
          "base_uri": "https://localhost:8080/"
        },
        "id": "iEwohfO7dsAM",
        "outputId": "16ac4fb2-3e62-45ce-e4af-88ff40a56b0f"
      },
      "execution_count": 19,
      "outputs": [
        {
          "output_type": "stream",
          "name": "stdout",
          "text": [
            "Train set shape: (8000, 11)\n",
            "Validation set shape: (2000, 11)\n",
            "Logistic Regression Model Performance:\n",
            "Accuracy: 0.8005\n",
            "Classification Report:\n",
            "               precision    recall  f1-score   support\n",
            "\n",
            "           0       0.81      0.98      0.89      1607\n",
            "           1       0.45      0.07      0.12       393\n",
            "\n",
            "    accuracy                           0.80      2000\n",
            "   macro avg       0.63      0.53      0.51      2000\n",
            "weighted avg       0.74      0.80      0.74      2000\n",
            "\n",
            "Confusion Matrix:\n",
            " [[1573   34]\n",
            " [ 365   28]]\n"
          ]
        }
      ]
    },
    {
      "cell_type": "code",
      "source": [
        "import matplotlib.pyplot as plt\n",
        "import seaborn as sns\n",
        "\n",
        "df = train_data  # Replace with your actual DataFrame\n",
        "\n",
        "# Distribution of Fraudulent Transactions by Category\n",
        "plt.figure(figsize=(12, 6))\n",
        "sns.countplot(x='category_food_dining', hue='is_fraud', data=df, palette='Set1')\n",
        "plt.title('Distribution of Fraudulent Transactions in Food & Dining Category')\n",
        "plt.xlabel('Transaction Category: Food & Dining')\n",
        "plt.ylabel('Count')\n",
        "plt.legend(['Not Fraud', 'Fraud'])\n",
        "plt.xticks(rotation=45)\n",
        "plt.tight_layout()\n",
        "plt.show()\n"
      ],
      "metadata": {
        "colab": {
          "base_uri": "https://localhost:8080/",
          "height": 607
        },
        "id": "pbDvRkSMnFZZ",
        "outputId": "06bcfed6-8ca4-4fc7-f1be-53144d2f3658"
      },
      "execution_count": 11,
      "outputs": [
        {
          "output_type": "display_data",
          "data": {
            "text/plain": [
              "<Figure size 1200x600 with 1 Axes>"
            ],
            "image/png": "[encoded data removed]"
          },
          "metadata": {}
        }
      ]
    },
    {
      "cell_type": "markdown",
      "source": [
        "LOGISTIC REGRESSION"
      ],
      "metadata": {
        "id": "faeiZ6lYfmt5"
      }
    },
    {
      "cell_type": "code",
      "source": [
        "import pandas as pd\n",
        "from sklearn.model_selection import train_test_split\n",
        "from sklearn.linear_model import LogisticRegression\n",
        "from sklearn.metrics import accuracy_score, classification_report, confusion_matrix\n",
        "\n",
        "# Read the CSV file into a DataFrame\n",
        "df = pd.read_csv('/content/drive/MyDrive/churn/Churn_Modelling.csv')\n",
        "\n",
        "# Select relevant columns for features and target\n",
        "feature_columns = ['CreditScore', 'Geography', 'Gender', 'Age', 'Tenure', 'Balance', 'NumOfProducts', 'HasCrCard', 'IsActiveMember', 'EstimatedSalary']\n",
        "\n",
        "# Convert categorical columns to numeric using one-hot encoding\n",
        "df = pd.get_dummies(df, columns=['Geography', 'Gender'], drop_first=True)\n",
        "\n",
        "# Define features and target\n",
        "X = df.drop(columns=['RowNumber', 'CustomerId', 'Surname', 'Exited'])\n",
        "y = df['Exited']\n",
        "\n",
        "# Train-test split for validation\n",
        "X_train, X_val, y_train, y_val = train_test_split(X, y, test_size=0.2, random_state=42)\n",
        "\n",
        "# Display shapes of datasets\n",
        "print(\"Train set shape:\", X_train.shape)\n",
        "print(\"Validation set shape:\", X_val.shape)\n",
        "\n",
        "# Initialize Logistic Regression model\n",
        "logistic_regression = LogisticRegression(max_iter=1000, random_state=42)\n",
        "\n",
        "# Train the model\n",
        "logistic_regression.fit(X_train, y_train)\n",
        "\n",
        "# Predict on validation set\n",
        "y_val_pred_lr = logistic_regression.predict(X_val)\n",
        "\n",
        "# Evaluate model performance on validation set\n",
        "print(\"Logistic Regression Model Performance:\")\n",
        "print(\"Accuracy:\", accuracy_score(y_val, y_val_pred_lr))\n",
        "print(\"Classification Report:\\n\", classification_report(y_val, y_val_pred_lr))\n",
        "print(\"Confusion Matrix:\\n\", confusion_matrix(y_val, y_val_pred_lr))\n"
      ],
      "metadata": {
        "colab": {
          "base_uri": "https://localhost:8080/"
        },
        "id": "0j4Iy4IsfjXJ",
        "outputId": "85ab4563-0118-4120-ed9a-6bd68653b9eb"
      },
      "execution_count": 21,
      "outputs": [
        {
          "output_type": "stream",
          "name": "stdout",
          "text": [
            "Train set shape: (8000, 11)\n",
            "Validation set shape: (2000, 11)\n",
            "Logistic Regression Model Performance:\n",
            "Accuracy: 0.8005\n",
            "Classification Report:\n",
            "               precision    recall  f1-score   support\n",
            "\n",
            "           0       0.81      0.98      0.89      1607\n",
            "           1       0.45      0.07      0.12       393\n",
            "\n",
            "    accuracy                           0.80      2000\n",
            "   macro avg       0.63      0.53      0.51      2000\n",
            "weighted avg       0.74      0.80      0.74      2000\n",
            "\n",
            "Confusion Matrix:\n",
            " [[1573   34]\n",
            " [ 365   28]]\n"
          ]
        }
      ]
    },
    {
      "cell_type": "markdown",
      "source": [
        "Decision Tree Classifier"
      ],
      "metadata": {
        "id": "yZXfFGhGfqm_"
      }
    },
    {
      "cell_type": "code",
      "source": [
        "from sklearn.tree import DecisionTreeClassifier\n",
        "\n",
        "# Initialize Decision Tree model\n",
        "decision_tree = DecisionTreeClassifier(random_state=42)\n",
        "\n",
        "# Train the model\n",
        "decision_tree.fit(X_train, y_train)\n",
        "\n",
        "# Predict on validation set\n",
        "y_val_pred_dt = decision_tree.predict(X_val)\n",
        "\n",
        "# Evaluate model performance on validation set\n",
        "print(\"Decision Tree Model Performance:\")\n",
        "print(\"Accuracy:\", accuracy_score(y_val, y_val_pred_dt))\n",
        "print(\"Classification Report:\\n\", classification_report(y_val, y_val_pred_dt))\n",
        "print(\"Confusion Matrix:\\n\", confusion_matrix(y_val, y_val_pred_dt))\n"
      ],
      "metadata": {
        "id": "UooF_-ulfsuD",
        "colab": {
          "base_uri": "https://localhost:8080/"
        },
        "outputId": "ceabfad1-3c93-43f1-b6c7-5e18b46f7b30"
      },
      "execution_count": 22,
      "outputs": [
        {
          "output_type": "stream",
          "name": "stdout",
          "text": [
            "Decision Tree Model Performance:\n",
            "Accuracy: 0.7805\n",
            "Classification Report:\n",
            "               precision    recall  f1-score   support\n",
            "\n",
            "           0       0.88      0.85      0.86      1607\n",
            "           1       0.45      0.51      0.48       393\n",
            "\n",
            "    accuracy                           0.78      2000\n",
            "   macro avg       0.66      0.68      0.67      2000\n",
            "weighted avg       0.79      0.78      0.79      2000\n",
            "\n",
            "Confusion Matrix:\n",
            " [[1362  245]\n",
            " [ 194  199]]\n"
          ]
        }
      ]
    },
    {
      "cell_type": "markdown",
      "source": [
        "Random Forest Classifier - ✅"
      ],
      "metadata": {
        "id": "WcI23f83fuua"
      }
    },
    {
      "cell_type": "code",
      "source": [
        "from sklearn.ensemble import RandomForestClassifier\n",
        "\n",
        "# Initialize Random Forest model with fewer estimators\n",
        "random_forest = RandomForestClassifier(n_estimators=10, random_state=42, n_jobs=-1)\n",
        "\n",
        "# Train the model\n",
        "random_forest.fit(X_train, y_train)\n",
        "\n",
        "# Predict on validation set\n",
        "y_val_pred_rf = random_forest.predict(X_val)\n",
        "\n",
        "# Evaluate model performance on validation set\n",
        "print(\"Random Forest Model Performance:\")\n",
        "print(\"Accuracy:\", accuracy_score(y_val, y_val_pred_rf))\n",
        "print(\"Classification Report:\\n\", classification_report(y_val, y_val_pred_rf))\n",
        "print(\"Confusion Matrix:\\n\", confusion_matrix(y_val, y_val_pred_rf))\n"
      ],
      "metadata": {
        "colab": {
          "base_uri": "https://localhost:8080/"
        },
        "id": "gMVyRqN-fw2W",
        "outputId": "db0ce639-493e-43a4-8435-952f718004ec"
      },
      "execution_count": 23,
      "outputs": [
        {
          "output_type": "stream",
          "name": "stdout",
          "text": [
            "Random Forest Model Performance:\n",
            "Accuracy: 0.855\n",
            "Classification Report:\n",
            "               precision    recall  f1-score   support\n",
            "\n",
            "           0       0.88      0.95      0.91      1607\n",
            "           1       0.71      0.45      0.55       393\n",
            "\n",
            "    accuracy                           0.85      2000\n",
            "   macro avg       0.79      0.70      0.73      2000\n",
            "weighted avg       0.84      0.85      0.84      2000\n",
            "\n",
            "Confusion Matrix:\n",
            " [[1534   73]\n",
            " [ 217  176]]\n"
          ]
        }
      ]
    },
    {
      "cell_type": "markdown",
      "source": [
        "Support Vector Machine (SVM)"
      ],
      "metadata": {
        "id": "sb2LMIerp06t"
      }
    },
    {
      "cell_type": "code",
      "source": [
        "from sklearn.neighbors import KNeighborsClassifier\n",
        "\n",
        "# Initialize KNN model\n",
        "knn_model = KNeighborsClassifier(n_neighbors=5)\n",
        "\n",
        "# Train the model\n",
        "knn_model.fit(X_train, y_train)\n",
        "\n",
        "# Predict on validation set\n",
        "y_val_pred_knn = knn_model.predict(X_val)\n",
        "\n",
        "# Evaluate model performance on validation set\n",
        "print(\"K-Nearest Neighbors Model Performance:\")\n",
        "print(\"Accuracy:\", accuracy_score(y_val, y_val_pred_knn))\n",
        "print(\"Classification Report:\\n\", classification_report(y_val, y_val_pred_knn))\n",
        "print(\"Confusion Matrix:\\n\", confusion_matrix(y_val, y_val_pred_knn))\n"
      ],
      "metadata": {
        "id": "mgbh7r-PqblT",
        "colab": {
          "base_uri": "https://localhost:8080/"
        },
        "outputId": "6d4c65d6-9268-4e74-de76-fe3c842d82ed"
      },
      "execution_count": 24,
      "outputs": [
        {
          "output_type": "stream",
          "name": "stdout",
          "text": [
            "K-Nearest Neighbors Model Performance:\n",
            "Accuracy: 0.764\n",
            "Classification Report:\n",
            "               precision    recall  f1-score   support\n",
            "\n",
            "           0       0.81      0.93      0.86      1607\n",
            "           1       0.24      0.09      0.14       393\n",
            "\n",
            "    accuracy                           0.76      2000\n",
            "   macro avg       0.52      0.51      0.50      2000\n",
            "weighted avg       0.70      0.76      0.72      2000\n",
            "\n",
            "Confusion Matrix:\n",
            " [[1491  116]\n",
            " [ 356   37]]\n"
          ]
        }
      ]
    },
    {
      "cell_type": "code",
      "source": [
        "import matplotlib.pyplot as plt\n",
        "\n",
        "# Model names and corresponding accuracies\n",
        "models = ['Logistic Regression', 'Decision Tree', 'Random Forest']\n",
        "accuracies = [0.9941388551487458, 0.9961748317812867, 0.9973354927024891]\n",
        "\n",
        "# Plotting the bar graph\n",
        "plt.figure(figsize=(10, 6))\n",
        "bars = plt.bar(models, accuracies, color=['blue', 'green', 'orange'])\n",
        "\n",
        "# Adding text annotations for each bar\n",
        "for bar in bars:\n",
        "    yval = bar.get_height()\n",
        "    plt.text(bar.get_x() + bar.get_width()/2, yval - 0.005, round(yval, 4), ha='center', va='top', fontsize=12)\n",
        "\n",
        "# Adding labels and title\n",
        "plt.xlabel('Models')\n",
        "plt.ylabel('Accuracy')\n",
        "plt.title('Accuracy Comparison of Different Models')\n",
        "plt.ylim(0.99, 1.0)  # Set y-axis limit to highlight differences\n",
        "plt.grid(axis='y', linestyle='--')\n",
        "\n",
        "# Display the plot\n",
        "plt.show()"
      ],
      "metadata": {
        "colab": {
          "base_uri": "https://localhost:8080/",
          "height": 579
        },
        "id": "7Q7se1hcoDUG",
        "outputId": "2017a793-1212-4748-86ed-05d01606c1f4"
      },
      "execution_count": 25,
      "outputs": [
        {
          "output_type": "display_data",
          "data": {
            "text/plain": [
              "<Figure size 1000x600 with 1 Axes>"
            ],
            "image/png": "[encoded data removed]"
          },
          "metadata": {}
        }
      ]
    },
    {
      "cell_type": "code",
      "source": [
        "import joblib\n",
        "joblib.dump(random_forest, '/content/drive/MyDrive/movie/random_forest_model.pkl')"
      ],
      "metadata": {
        "colab": {
          "base_uri": "https://localhost:8080/"
        },
        "id": "nCzEwCMAhmQd",
        "outputId": "95f7134c-b511-4cd3-84b4-6df2509be21e"
      },
      "execution_count": null,
      "outputs": [
        {
          "output_type": "execute_result",
          "data": {
            "text/plain": [
              "['/content/drive/MyDrive/movie/random_forest_model.pkl']"
            ]
          },
          "metadata": {},
          "execution_count": 21
        }
      ]
    },
    {
      "cell_type": "code",
      "source": [
        "import joblib\n",
        "\n",
        "# Load the trained Random Forest model\n",
        "random_forest = joblib.load('/content/drive/MyDrive/movie/random_forest_model.pkl')\n",
        "\n",
        "# Assuming X_test is your test data (features) in the same format as used during training\n",
        "# Replace X_test with your actual test data\n",
        "y_pred = random_forest.predict(X_test)\n",
        "\n",
        "# Assuming you want to print or use the predictions\n",
        "print(\"Predictions:\", y_pred)"
      ],
      "metadata": {
        "colab": {
          "base_uri": "https://localhost:8080/"
        },
        "id": "AjZ2CPeRkmvZ",
        "outputId": "9e79733a-eadd-472f-aff6-99e9bc64fec5"
      },
      "execution_count": null,
      "outputs": [
        {
          "output_type": "stream",
          "name": "stdout",
          "text": [
            "Predictions: [0 0 0 ... 0 0 0]\n"
          ]
        }
      ]
    }
  ]
}