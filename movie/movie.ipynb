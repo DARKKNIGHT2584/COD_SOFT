{
  "nbformat": 4,
  "nbformat_minor": 0,
  "metadata": {
    "colab": {
      "provenance": []
    },
    "kernelspec": {
      "name": "python3",
      "display_name": "Python 3"
    },
    "language_info": {
      "name": "python"
    }
  },
  "cells": [
    {
      "cell_type": "code",
      "execution_count": null,
      "metadata": {
        "colab": {
          "base_uri": "https://localhost:8080/"
        },
        "id": "PC4g5pC7vGWh",
        "outputId": "d3b4e300-ef69-4eaf-d57a-f409cb2b58a1"
      },
      "outputs": [
        {
          "output_type": "stream",
          "name": "stdout",
          "text": [
            "Mounted at /content/drive\n",
            "Train Data:\n",
            "   ID                             TITLE     GENRE  \\\n",
            "0   1      Oscar et la dame rose (2009)     drama   \n",
            "1   2                      Cupid (1997)  thriller   \n",
            "2   3  Young, Wild and Wonderful (1980)     adult   \n",
            "3   4             The Secret Sin (1915)     drama   \n",
            "4   5            The Unrecovered (2007)     drama   \n",
            "\n",
            "                                         DESCRIPTION  \n",
            "0  Listening in to a conversation between his doc...  \n",
            "1  A brother and sister with a past incestuous re...  \n",
            "2  As the bus empties the students for their fiel...  \n",
            "3  To help their unemployed father make ends meet...  \n",
            "4  The film's title refers not only to the un-rec...  \n",
            "\n",
            "Test Data:\n",
            "   ID                        TITLE  \\\n",
            "0   1         Edgar's Lunch (1998)   \n",
            "1   2     La guerra de papá (1977)   \n",
            "2   3  Off the Beaten Track (2010)   \n",
            "3   4       Meu Amigo Hindu (2015)   \n",
            "4   5            Er nu zhai (1955)   \n",
            "\n",
            "                                         DESCRIPTION  \n",
            "0  L.R. Brane loves his life - his car, his apart...  \n",
            "1  Spain, March 1964: Quico is a very naughty chi...  \n",
            "2  One year in the life of Albin and his family o...  \n",
            "3  His father has died, he hasn't spoken with his...  \n",
            "4  Before he was known internationally as a marti...  \n",
            "\n",
            "Test Data Solution:\n",
            "   ID                        TITLE        GENRE  \\\n",
            "0   1         Edgar's Lunch (1998)     thriller   \n",
            "1   2     La guerra de papá (1977)       comedy   \n",
            "2   3  Off the Beaten Track (2010)  documentary   \n",
            "3   4       Meu Amigo Hindu (2015)        drama   \n",
            "4   5            Er nu zhai (1955)        drama   \n",
            "\n",
            "                                         DESCRIPTION  \n",
            "0  L.R. Brane loves his life - his car, his apart...  \n",
            "1  Spain, March 1964: Quico is a very naughty chi...  \n",
            "2  One year in the life of Albin and his family o...  \n",
            "3  His father has died, he hasn't spoken with his...  \n",
            "4  Before he was known internationally as a marti...  \n"
          ]
        }
      ],
      "source": [
        "from google.colab import drive\n",
        "import pandas as pd\n",
        "\n",
        "drive.mount('/content/drive')\n",
        "train_file_path = '/content/drive/MyDrive/movie/train_data.txt'\n",
        "test_file_path = '/content/drive/MyDrive/movie/test_data.txt'\n",
        "test_solution_file_path = '/content/drive/MyDrive/movie/test_data_solution.txt'\n",
        "\n",
        "train_data = pd.read_csv(train_file_path, sep=' ::: ', engine='python', names=['ID', 'TITLE', 'GENRE', 'DESCRIPTION'])\n",
        "test_data = pd.read_csv(test_file_path, sep=' ::: ', engine='python', names=['ID', 'TITLE', 'DESCRIPTION'])\n",
        "test_data_solution = pd.read_csv(test_solution_file_path, sep=' ::: ', engine='python', names=['ID', 'TITLE', 'GENRE', 'DESCRIPTION'])\n",
        "\n",
        "print(\"Train Data:\")\n",
        "print(train_data.head())\n",
        "print(\"\\nTest Data:\")\n",
        "print(test_data.head())\n",
        "print(\"\\nTest Data Solution:\")\n",
        "print(test_data_solution.head())\n"
      ]
    },
    {
      "cell_type": "code",
      "source": [
        "# Combine TITLE and DESCRIPTION into a single text column\n",
        "train_data['TEXT'] = train_data['TITLE'] + ' ' + train_data['DESCRIPTION']\n",
        "test_data['TEXT'] = test_data['TITLE'] + ' ' + test_data['DESCRIPTION']\n",
        "test_data_solution['TEXT'] = test_data_solution['TITLE'] + ' ' + test_data_solution['DESCRIPTION']\n",
        "\n",
        "# Drop unnecessary columns\n",
        "train_data = train_data.drop(columns=['TITLE', 'DESCRIPTION'])\n",
        "test_data = test_data.drop(columns=['TITLE', 'DESCRIPTION'])\n",
        "test_data_solution = test_data_solution.drop(columns=['TITLE', 'DESCRIPTION'])\n",
        "\n",
        "# Handle missing values\n",
        "train_data = train_data.dropna(subset=['GENRE', 'TEXT'])\n",
        "test_data = test_data.dropna(subset=['TEXT'])\n",
        "test_data_solution = test_data_solution.dropna(subset=['GENRE', 'TEXT'])\n",
        "\n",
        "# Display the first few rows of each DataFrame after preprocessing\n",
        "print(\"Train Data After Preprocessing:\")\n",
        "print(train_data.head())\n",
        "print(\"\\nTest Data After Preprocessing:\")\n",
        "print(test_data.head())\n",
        "print(\"\\nTest Data Solution After Preprocessing:\")\n",
        "print(test_data_solution.head())"
      ],
      "metadata": {
        "colab": {
          "base_uri": "https://localhost:8080/"
        },
        "id": "nEfWWjuM0KD-",
        "outputId": "b20f6e50-dc5d-4de9-cba5-446266ab51e0"
      },
      "execution_count": null,
      "outputs": [
        {
          "output_type": "stream",
          "name": "stdout",
          "text": [
            "Train Data After Preprocessing:\n",
            "   ID     GENRE                                               TEXT\n",
            "0   1     drama  Oscar et la dame rose (2009) Listening in to a...\n",
            "1   2  thriller  Cupid (1997) A brother and sister with a past ...\n",
            "2   3     adult  Young, Wild and Wonderful (1980) As the bus em...\n",
            "3   4     drama  The Secret Sin (1915) To help their unemployed...\n",
            "4   5     drama  The Unrecovered (2007) The film's title refers...\n",
            "\n",
            "Test Data After Preprocessing:\n",
            "   ID                                               TEXT\n",
            "0   1  Edgar's Lunch (1998) L.R. Brane loves his life...\n",
            "1   2  La guerra de papá (1977) Spain, March 1964: Qu...\n",
            "2   3  Off the Beaten Track (2010) One year in the li...\n",
            "3   4  Meu Amigo Hindu (2015) His father has died, he...\n",
            "4   5  Er nu zhai (1955) Before he was known internat...\n",
            "\n",
            "Test Data Solution After Preprocessing:\n",
            "   ID        GENRE                                               TEXT\n",
            "0   1     thriller  Edgar's Lunch (1998) L.R. Brane loves his life...\n",
            "1   2       comedy  La guerra de papá (1977) Spain, March 1964: Qu...\n",
            "2   3  documentary  Off the Beaten Track (2010) One year in the li...\n",
            "3   4        drama  Meu Amigo Hindu (2015) His father has died, he...\n",
            "4   5        drama  Er nu zhai (1955) Before he was known internat...\n"
          ]
        }
      ]
    },
    {
      "cell_type": "code",
      "source": [
        "from sklearn.feature_extraction.text import TfidfVectorizer\n",
        "\n",
        "# Use TF-IDF to convert text data into numerical features\n",
        "tfidf_vectorizer = TfidfVectorizer(stop_words='english', max_features=5000)\n",
        "X_train = tfidf_vectorizer.fit_transform(train_data['TEXT'])\n",
        "y_train = train_data['GENRE']\n",
        "\n",
        "# Transform the test data\n",
        "X_test = tfidf_vectorizer.transform(test_data['TEXT'])\n",
        "X_test_solution = tfidf_vectorizer.transform(test_data_solution['TEXT'])\n",
        "y_test_solution = test_data_solution['GENRE']\n",
        "\n",
        "# Save the TF-IDF model and the transformed data for reuse\n",
        "import joblib\n",
        "\n",
        "joblib.dump(tfidf_vectorizer, '/content/drive/MyDrive/movie/tfidf_vectorizer.pkl')\n",
        "joblib.dump(X_train, '/content/drive/MyDrive/movie/X_train.pkl')\n",
        "joblib.dump(y_train, '/content/drive/MyDrive/movie/y_train.pkl')\n",
        "joblib.dump(X_test, '/content/drive/MyDrive/movie/X_test.pkl')\n",
        "joblib.dump(X_test_solution, '/content/drive/MyDrive/movie/X_test_solution.pkl')\n",
        "joblib.dump(y_test_solution, '/content/drive/MyDrive/movie/y_test_solution.pkl')\n",
        "\n",
        "print(\"Feature extraction completed and saved.\")"
      ],
      "metadata": {
        "colab": {
          "base_uri": "https://localhost:8080/"
        },
        "id": "Bho3jtg00M6A",
        "outputId": "3df62d1c-de9e-4bd1-e282-c1eabdb92308"
      },
      "execution_count": null,
      "outputs": [
        {
          "output_type": "stream",
          "name": "stdout",
          "text": [
            "Feature extraction completed and saved.\n"
          ]
        }
      ]
    },
    {
      "cell_type": "code",
      "source": [
        "from sklearn.linear_model import LogisticRegression\n",
        "from sklearn.metrics import classification_report, accuracy_score\n",
        "from sklearn.model_selection import train_test_split\n",
        "\n",
        "# Split data into training and validation sets\n",
        "X_train_split, X_val, y_train_split, y_val = train_test_split(X_train, y_train, test_size=0.2, random_state=42)\n",
        "\n",
        "# Train Logistic Regression model\n",
        "model = LogisticRegression(max_iter=1000, random_state=42)\n",
        "model.fit(X_train_split, y_train_split)\n",
        "\n",
        "# Save the trained model\n",
        "joblib.dump(model, '/content/drive/MyDrive/movie/logistic_regression_model.pkl')\n",
        "\n",
        "# Predict on validation data\n",
        "y_val_pred = model.predict(X_val)\n",
        "\n",
        "# Evaluate the model\n",
        "print(\"Validation Accuracy:\", accuracy_score(y_val, y_val_pred))\n",
        "print(\"Validation Classification Report:\\n\", classification_report(y_val, y_val_pred))\n",
        "\n",
        "# Predict on test data\n",
        "y_test_pred = model.predict(X_test_solution)\n",
        "\n",
        "# Evaluate the model on test data\n",
        "print(\"Test Accuracy:\", accuracy_score(y_test_solution, y_test_pred))\n",
        "print(\"Test Classification Report:\\n\", classification_report(y_test_solution, y_test_pred))\n"
      ],
      "metadata": {
        "colab": {
          "base_uri": "https://localhost:8080/"
        },
        "id": "m12CWDaU0fY2",
        "outputId": "e3a3cb6b-dbaa-4753-f745-910c7ede96ae"
      },
      "execution_count": null,
      "outputs": [
        {
          "output_type": "stream",
          "name": "stdout",
          "text": [
            "Validation Accuracy: 0.5863690860462971\n"
          ]
        },
        {
          "output_type": "stream",
          "name": "stderr",
          "text": [
            "/usr/local/lib/python3.10/dist-packages/sklearn/metrics/_classification.py:1344: UndefinedMetricWarning: Precision and F-score are ill-defined and being set to 0.0 in labels with no predicted samples. Use `zero_division` parameter to control this behavior.\n",
            "  _warn_prf(average, modifier, msg_start, len(result))\n",
            "/usr/local/lib/python3.10/dist-packages/sklearn/metrics/_classification.py:1344: UndefinedMetricWarning: Precision and F-score are ill-defined and being set to 0.0 in labels with no predicted samples. Use `zero_division` parameter to control this behavior.\n",
            "  _warn_prf(average, modifier, msg_start, len(result))\n",
            "/usr/local/lib/python3.10/dist-packages/sklearn/metrics/_classification.py:1344: UndefinedMetricWarning: Precision and F-score are ill-defined and being set to 0.0 in labels with no predicted samples. Use `zero_division` parameter to control this behavior.\n",
            "  _warn_prf(average, modifier, msg_start, len(result))\n"
          ]
        },
        {
          "output_type": "stream",
          "name": "stdout",
          "text": [
            "Validation Classification Report:\n",
            "               precision    recall  f1-score   support\n",
            "\n",
            "      action       0.50      0.27      0.35       263\n",
            "       adult       0.72      0.23      0.35       112\n",
            "   adventure       0.44      0.14      0.22       139\n",
            "   animation       0.67      0.08      0.14       104\n",
            "   biography       0.00      0.00      0.00        61\n",
            "      comedy       0.52      0.58      0.55      1443\n",
            "       crime       0.38      0.03      0.05       107\n",
            " documentary       0.67      0.85      0.75      2659\n",
            "       drama       0.54      0.78      0.64      2697\n",
            "      family       0.38      0.08      0.13       150\n",
            "     fantasy       0.00      0.00      0.00        74\n",
            "   game-show       0.95      0.45      0.61        40\n",
            "     history       0.00      0.00      0.00        45\n",
            "      horror       0.68      0.59      0.63       431\n",
            "       music       0.61      0.48      0.54       144\n",
            "     musical       1.00      0.04      0.08        50\n",
            "     mystery       1.00      0.02      0.04        56\n",
            "        news       1.00      0.06      0.11        34\n",
            "  reality-tv       0.46      0.16      0.24       192\n",
            "     romance       0.29      0.01      0.03       151\n",
            "      sci-fi       0.60      0.23      0.33       143\n",
            "       short       0.49      0.36      0.42      1045\n",
            "       sport       0.66      0.20      0.31        93\n",
            "   talk-show       0.56      0.11      0.19        81\n",
            "    thriller       0.45      0.17      0.24       309\n",
            "         war       0.00      0.00      0.00        20\n",
            "     western       0.93      0.70      0.80       200\n",
            "\n",
            "    accuracy                           0.59     10843\n",
            "   macro avg       0.54      0.25      0.29     10843\n",
            "weighted avg       0.57      0.59      0.55     10843\n",
            "\n",
            "Test Accuracy: 0.5824538745387454\n"
          ]
        },
        {
          "output_type": "stream",
          "name": "stderr",
          "text": [
            "/usr/local/lib/python3.10/dist-packages/sklearn/metrics/_classification.py:1344: UndefinedMetricWarning: Precision and F-score are ill-defined and being set to 0.0 in labels with no predicted samples. Use `zero_division` parameter to control this behavior.\n",
            "  _warn_prf(average, modifier, msg_start, len(result))\n",
            "/usr/local/lib/python3.10/dist-packages/sklearn/metrics/_classification.py:1344: UndefinedMetricWarning: Precision and F-score are ill-defined and being set to 0.0 in labels with no predicted samples. Use `zero_division` parameter to control this behavior.\n",
            "  _warn_prf(average, modifier, msg_start, len(result))\n"
          ]
        },
        {
          "output_type": "stream",
          "name": "stdout",
          "text": [
            "Test Classification Report:\n",
            "               precision    recall  f1-score   support\n",
            "\n",
            "      action       0.50      0.27      0.35      1314\n",
            "       adult       0.62      0.21      0.31       590\n",
            "   adventure       0.61      0.18      0.28       775\n",
            "   animation       0.51      0.05      0.08       498\n",
            "   biography       0.00      0.00      0.00       264\n",
            "      comedy       0.53      0.58      0.55      7446\n",
            "       crime       0.40      0.03      0.06       505\n",
            " documentary       0.66      0.85      0.75     13096\n",
            "       drama       0.54      0.77      0.64     13612\n",
            "      family       0.50      0.09      0.15       783\n",
            "     fantasy       0.70      0.02      0.04       322\n",
            "   game-show       0.91      0.47      0.62       193\n",
            "     history       0.00      0.00      0.00       243\n",
            "      horror       0.65      0.58      0.61      2204\n",
            "       music       0.69      0.45      0.54       731\n",
            "     musical       0.29      0.02      0.03       276\n",
            "     mystery       0.40      0.01      0.02       318\n",
            "        news       0.71      0.07      0.12       181\n",
            "  reality-tv       0.51      0.16      0.24       883\n",
            "     romance       0.36      0.03      0.05       672\n",
            "      sci-fi       0.58      0.23      0.33       646\n",
            "       short       0.47      0.34      0.40      5072\n",
            "       sport       0.67      0.22      0.33       431\n",
            "   talk-show       0.64      0.14      0.23       391\n",
            "    thriller       0.39      0.13      0.20      1590\n",
            "         war       0.75      0.02      0.04       132\n",
            "     western       0.92      0.72      0.81      1032\n",
            "\n",
            "    accuracy                           0.58     54200\n",
            "   macro avg       0.54      0.25      0.29     54200\n",
            "weighted avg       0.57      0.58      0.54     54200\n",
            "\n"
          ]
        },
        {
          "output_type": "stream",
          "name": "stderr",
          "text": [
            "/usr/local/lib/python3.10/dist-packages/sklearn/metrics/_classification.py:1344: UndefinedMetricWarning: Precision and F-score are ill-defined and being set to 0.0 in labels with no predicted samples. Use `zero_division` parameter to control this behavior.\n",
            "  _warn_prf(average, modifier, msg_start, len(result))\n"
          ]
        }
      ]
    },
    {
      "cell_type": "code",
      "source": [
        "import joblib\n",
        "import pickle\n",
        "\n",
        "# Load the trained model with full path\n",
        "logistic_regression = joblib.load('/content/drive/MyDrive/movie/logistic_regression_model.pkl')\n",
        "\n",
        "# Load the TF-IDF vectorizer\n",
        "with open('/content/drive/MyDrive/movie/tfidf_vectorizer.pkl', 'rb') as f:\n",
        "    tfidf_vectorizer = joblib.load(f)"
      ],
      "metadata": {
        "id": "Guo0oIe53aO7"
      },
      "execution_count": null,
      "outputs": []
    },
    {
      "cell_type": "code",
      "source": [
        "def predict_genre(plot, model, vectorizer):\n",
        "    # Transform the plot using the loaded TF-IDF vectorizer\n",
        "    plot_transformed = vectorizer.transform([plot])\n",
        "    # Predict the genre using the loaded model\n",
        "    predicted_genre = model.predict(plot_transformed)\n",
        "    return predicted_genre[0]"
      ],
      "metadata": {
        "id": "jn3lIqsF0yDp"
      },
      "execution_count": null,
      "outputs": []
    },
    {
      "cell_type": "code",
      "source": [
        "plot1 = \"In a post-apocalyptic world, a family struggles to survive against mutated creatures that hunt by sound.\"\n",
        "predicted_genre1 = predict_genre(plot1, logistic_regression, tfidf_vectorizer)\n",
        "print(f\"Plot 1: {plot1}\")\n",
        "print(f\"Predicted Genre (Logistic Regression): {predicted_genre1}\")\n",
        "print('-' * 80)"
      ],
      "metadata": {
        "colab": {
          "base_uri": "https://localhost:8080/"
        },
        "id": "NbZBRiOI3SCL",
        "outputId": "058e313f-44c3-4b01-b061-c5f9304cdc46"
      },
      "execution_count": null,
      "outputs": [
        {
          "output_type": "stream",
          "name": "stdout",
          "text": [
            "Plot 1: In a post-apocalyptic world, a family struggles to survive against mutated creatures that hunt by sound.\n",
            "Predicted Genre (Logistic Regression): drama\n",
            "--------------------------------------------------------------------------------\n"
          ]
        }
      ]
    },
    {
      "cell_type": "code",
      "source": [
        "plot2 = \"In 2154, astronauts explore a distant exoplanet to find a new home for humanity, encountering alien life forms and advanced technology.\"\n",
        "predicted_genre2 = predict_genre(plot2, logistic_regression, tfidf_vectorizer)\n",
        "print(f\"Plot 2: {plot2}\")\n",
        "print(f\"Predicted Genre (Logistic Regression): {predicted_genre2}\")"
      ],
      "metadata": {
        "colab": {
          "base_uri": "https://localhost:8080/"
        },
        "id": "Nlw4mlClT36I",
        "outputId": "dd05c3c3-797c-4817-8a13-f3d0e507db32"
      },
      "execution_count": null,
      "outputs": [
        {
          "output_type": "stream",
          "name": "stdout",
          "text": [
            "Plot 2: In 2154, astronauts explore a distant exoplanet to find a new home for humanity, encountering alien life forms and advanced technology.\n",
            "Predicted Genre (Logistic Regression): sci-fi\n"
          ]
        }
      ]
    },
    {
      "cell_type": "code",
      "source": [
        "plot3 = \"A group of mismatched friends start a pet-sitting business, leading to hilarious mishaps and quirky client encounters.\"\n",
        "predicted_genre3 = predict_genre(plot3, logistic_regression, tfidf_vectorizer)\n",
        "print(f\"Plot 3: {plot3}\")\n",
        "print(f\"Predicted Genre (Logistic Regression): {predicted_genre3}\")"
      ],
      "metadata": {
        "colab": {
          "base_uri": "https://localhost:8080/"
        },
        "id": "PSv5fwThT5Jy",
        "outputId": "13451e7f-684c-4c96-9be4-b9e548e2b570"
      },
      "execution_count": null,
      "outputs": [
        {
          "output_type": "stream",
          "name": "stdout",
          "text": [
            "Plot 3: A group of mismatched friends start a pet-sitting business, leading to hilarious mishaps and quirky client encounters.\n",
            "Predicted Genre (Logistic Regression): comedy\n"
          ]
        }
      ]
    }
  ]
}